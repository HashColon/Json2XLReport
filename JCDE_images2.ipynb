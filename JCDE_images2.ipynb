{
 "cells": [
  {
   "cell_type": "code",
   "execution_count": 11,
   "source": [
    "import json\n",
    "reportFilename = \"/home/cadit/WTK/FelineExp/ExpReports/LCSS/Report/LCSS_Report.json\"\n",
    "\n",
    "with open(reportFilename, 'r') as f:\n",
    "    report = json.load(f)\n",
    "    cluster = report[\"ClusteringResults\"]\n",
    "    distances = report[\"DistanceMatrix\"]\n",
    "\n",
    "maxDist = [-1] * len(cluster)\n",
    "for idx, Acluster in enumerate(cluster):    \n",
    "    if idx == 0:\n",
    "        maxDist[0] = \"Noise\"\n",
    "        continue\n",
    "    for i in Acluster:\n",
    "        for j in Acluster:\n",
    "            if i >= j :\n",
    "                continue\n",
    "            if maxDist[idx] < distances[i][j]:\n",
    "                maxDist[idx] = distances[i][j]\n",
    "\n",
    "maxDist\n",
    "\n",
    "\n"
   ],
   "outputs": [
    {
     "output_type": "execute_result",
     "data": {
      "text/plain": [
       "['Noise',\n",
       " 0.9375,\n",
       " 0.9375,\n",
       " 0.9375,\n",
       " 0.9375,\n",
       " 0.9375,\n",
       " 0.9375,\n",
       " 0.90625,\n",
       " 0.9375,\n",
       " 0.875,\n",
       " 0.9375,\n",
       " 0.9375]"
      ]
     },
     "metadata": {},
     "execution_count": 11
    }
   ],
   "metadata": {}
  }
 ],
 "metadata": {
  "orig_nbformat": 4,
  "language_info": {
   "name": "python",
   "version": "3.9.5",
   "mimetype": "text/x-python",
   "codemirror_mode": {
    "name": "ipython",
    "version": 3
   },
   "pygments_lexer": "ipython3",
   "nbconvert_exporter": "python",
   "file_extension": ".py"
  },
  "kernelspec": {
   "name": "python3",
   "display_name": "Python 3.9.5 64-bit"
  },
  "interpreter": {
   "hash": "916dbcbb3f70747c44a77c7bcd40155683ae19c65e1c03b4aa3499c5328201f1"
  }
 },
 "nbformat": 4,
 "nbformat_minor": 2
}